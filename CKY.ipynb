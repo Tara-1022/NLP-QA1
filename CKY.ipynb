{
  "cells": [
    {
      "cell_type": "code",
      "source": [
        "class CKYParser:\n",
        "    def __init__(self, grammar):\n",
        "        self.grammar = grammar\n",
        "        self.grammar_dict = self.create_grammar_dict()\n",
        "\n",
        "    def create_grammar_dict(self):\n",
        "        grammar_dict = {}\n",
        "        for rule in self.grammar:\n",
        "            for lhs, rhs in rule.items():\n",
        "                if lhs not in grammar_dict:\n",
        "                    grammar_dict[lhs] = []\n",
        "                grammar_dict[lhs].append(rhs)\n",
        "        return grammar_dict\n",
        "\n",
        "    def parse(self, sentence):\n",
        "        n = len(sentence)\n",
        "        parsing_table = [[set() for _ in range(n)] for _ in range(n)]\n",
        "        backtrack_table = [[{} for _ in range(n)] for _ in range(n)]\n",
        "\n",
        "        for j in range(n):\n",
        "            word = sentence[j]\n",
        "            for lhs, productions in self.grammar_dict.items():\n",
        "                for rhs in productions:\n",
        "                    if isinstance(rhs, str) and rhs == word:\n",
        "                        parsing_table[j][j].add(lhs)\n",
        "                        backtrack_table[j][j][lhs] = word\n",
        "\n",
        "        for length in range(2, n + 1):\n",
        "            for i in range(n - length + 1):\n",
        "                j = i + length - 1\n",
        "                for k in range(i, j):\n",
        "                    for lhs, productions in self.grammar_dict.items():\n",
        "                        for rhs in productions:\n",
        "                            if isinstance(rhs, tuple) and len(rhs) == 2:\n",
        "                                A, B = rhs\n",
        "                                if A in parsing_table[i][k] and B in parsing_table[k + 1][j]:\n",
        "                                    parsing_table[i][j].add(lhs)\n",
        "                                    backtrack_table[i][j][lhs] = (A, B, i, k, k + 1, j)\n",
        "\n",
        "        if 'S' in parsing_table[0][n - 1]:\n",
        "            return self.build_tree(0, n - 1, 'S', backtrack_table, sentence)\n",
        "        else:\n",
        "            return None\n",
        "\n",
        "    def build_tree(self, i, j, symbol, backtrack_table, sentence):\n",
        "        if i == j:\n",
        "            return sentence[i]\n",
        "        else:\n",
        "            A, B, i1, j1, k1, j2 = backtrack_table[i][j][symbol]\n",
        "            left_subtree = self.build_tree(i, j1, A, backtrack_table, sentence)\n",
        "            right_subtree = self.build_tree(k1, j2, B, backtrack_table, sentence)\n",
        "            return (symbol, left_subtree, right_subtree)"
      ],
      "metadata": {
        "id": "CN5cwwYKaCfB"
      },
      "execution_count": null,
      "outputs": []
    },
    {
      "cell_type": "code",
      "source": [
        "def print_tree(tree, indent=\"\"):\n",
        "    if isinstance(tree, tuple):\n",
        "        print(indent + str(tree[0]))\n",
        "        print_tree(tree[1], indent + \"  \")\n",
        "        print_tree(tree[2], indent + \"  \")\n",
        "    else:\n",
        "        print(indent + tree)"
      ],
      "metadata": {
        "id": "8FKCwD5zaiAG"
      },
      "execution_count": null,
      "outputs": []
    },
    {
      "cell_type": "code",
      "source": [
        "grammar = [\n",
        "    {\"S\": (\"NP\", \"VP\")},\n",
        "    {\"NP\": (\"Det\", \"N\")},\n",
        "    {\"VP\": (\"V\", \"NP\")},\n",
        "    {\"Det\": \"the\"},\n",
        "    {\"Det\": \"a\"},\n",
        "    {\"N\": \"cat\"},\n",
        "    {\"N\": \"dog\"},\n",
        "    {\"V\": \"chases\"},\n",
        "    {\"V\": \"sees\"}\n",
        "]\n",
        "\n",
        "sentence = input(\"Enter a sentence as per the grammar: \").lower().split()"
      ],
      "metadata": {
        "colab": {
          "base_uri": "https://localhost:8080/"
        },
        "id": "5HYRnX28adwh",
        "outputId": "5838c588-eab4-43b0-a859-d5abb4268b19"
      },
      "execution_count": null,
      "outputs": [
        {
          "name": "stdout",
          "output_type": "stream",
          "text": [
            "Enter a sentence as per the grammar: The dog chases the cat\n"
          ]
        }
      ]
    },
    {
      "cell_type": "code",
      "source": [
        "parser = CKYParser(grammar)\n",
        "parse_tree = parser.parse(sentence)\n",
        "\n",
        "if parse_tree:\n",
        "    print(\"Parse Tree:\")\n",
        "    print_tree(parse_tree)\n",
        "else:\n",
        "    print(\"No valid parse tree found.\")"
      ],
      "metadata": {
        "colab": {
          "base_uri": "https://localhost:8080/"
        },
        "id": "IUZQZpJnageA",
        "outputId": "9725c150-52d0-4b07-e794-ae18c4f88018"
      },
      "execution_count": null,
      "outputs": [
        {
          "output_type": "stream",
          "name": "stdout",
          "text": [
            "Parse Tree:\n",
            "S\n",
            "  NP\n",
            "    the\n",
            "    dog\n",
            "  VP\n",
            "    chases\n",
            "    NP\n",
            "      the\n",
            "      cat\n"
          ]
        }
      ]
    }
  ],
  "metadata": {
    "kernelspec": {
      "display_name": "Python 3",
      "language": "python",
      "name": "python3"
    },
    "language_info": {
      "codemirror_mode": {
        "name": "ipython",
        "version": 3
      },
      "file_extension": ".py",
      "mimetype": "text/x-python",
      "name": "python",
      "nbconvert_exporter": "python",
      "pygments_lexer": "ipython3",
      "version": "3.9.6"
    },
    "colab": {
      "provenance": []
    }
  },
  "nbformat": 4,
  "nbformat_minor": 0
}